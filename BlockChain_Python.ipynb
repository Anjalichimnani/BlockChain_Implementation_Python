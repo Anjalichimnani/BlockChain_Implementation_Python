{
  "nbformat": 4,
  "nbformat_minor": 0,
  "metadata": {
    "colab": {
      "name": "BlockChain_Python.ipynb",
      "provenance": [],
      "authorship_tag": "ABX9TyNrcj6NM3jFfEm3ZITLLjjN"
    },
    "kernelspec": {
      "name": "python3",
      "display_name": "Python 3"
    }
  },
  "cells": [
    {
      "cell_type": "code",
      "metadata": {
        "id": "2OtlEx4cJIYc",
        "colab_type": "code",
        "colab": {}
      },
      "source": [
        "import copy \n",
        "import datetime \n",
        "import hashlib"
      ],
      "execution_count": 0,
      "outputs": []
    },
    {
      "cell_type": "code",
      "metadata": {
        "id": "bJBb7_EJJOrr",
        "colab_type": "code",
        "colab": {}
      },
      "source": [
        "class BlockChain():\n",
        "    def __init__(self): # initialize when creating a chain\n",
        "        self.blocks = [self.get_genesis_block()]\n",
        "    \n",
        "    def __eq__(self, other):\n",
        "        if isinstance(other, self.__class__):\n",
        "            return self.__dict__ == other.__dict__\n",
        "        else:\n",
        "            return False\n",
        "    \n",
        "    def get_genesis_block(self): \n",
        "        return Block(0, \n",
        "                            datetime.datetime.utcnow(), \n",
        "                            'Genesis', \n",
        "                            'arbitrary')\n",
        "    \n",
        "    def add_block(self, data):\n",
        "        self.blocks.append(Block(len(self.blocks), \n",
        "                                        datetime.datetime.utcnow(), \n",
        "                                        data, \n",
        "                                        self.blocks[len(self.blocks)-1].hash))\n",
        "    \n",
        "    def get_chain_size(self): # exclude genesis block\n",
        "        return len(self.blocks)-1\n",
        "    \n",
        "    def verify(self, verbose=True): \n",
        "        flag = True\n",
        "        for i in range(1,len(self.blocks)):\n",
        "            if not self.blocks[i].verify(): # assume Genesis block integrity\n",
        "                flag = False\n",
        "                if verbose:\n",
        "                    print(f'Wrong data type(s) at block {i}.')\n",
        "            if self.blocks[i].index != i:\n",
        "                flag = False\n",
        "                if verbose:\n",
        "                    print(f'Wrong block index at block {i}.')\n",
        "            if self.blocks[i-1].hash != self.blocks[i].previous_hash:\n",
        "                flag = False\n",
        "                if verbose:\n",
        "                    print(f'Wrong previous hash at block {i}.')\n",
        "            if self.blocks[i].hash != self.blocks[i].hashing():\n",
        "                flag = False\n",
        "                if verbose:\n",
        "                    print(f'Wrong hash at block {i}.')\n",
        "            if self.blocks[i-1].timestamp >= self.blocks[i].timestamp:\n",
        "                flag = False\n",
        "                if verbose:\n",
        "                    print(f'Backdating at block {i}.')\n",
        "        return flag\n",
        "    \n",
        "    def fork(self, head='latest'):\n",
        "        if head in ['latest', 'whole', 'all']:\n",
        "            return copy.deepcopy(self) # deepcopy since they are mutable\n",
        "        else:\n",
        "            c = copy.deepcopy(self)\n",
        "            c.blocks = c.blocks[0:head+1]\n",
        "            return c\n",
        "    \n",
        "    def get_root(self, chain_2):\n",
        "        min_chain_size = min(self.get_chain_size(), chain_2.get_chain_size())\n",
        "        for i in range(1,min_chain_size+1):\n",
        "            if self.blocks[i] != chain_2.blocks[i]:\n",
        "                return self.fork(i-1)\n",
        "        return self.fork(min_chain_size)"
      ],
      "execution_count": 0,
      "outputs": []
    },
    {
      "cell_type": "code",
      "metadata": {
        "id": "sNctNS0nJZKF",
        "colab_type": "code",
        "colab": {}
      },
      "source": [
        "class Block():\n",
        "    def __init__(self, index, timestamp, data, previous_hash):\n",
        "        self.index = index\n",
        "        self.timestamp = timestamp\n",
        "        self.data = data\n",
        "        self.previous_hash = previous_hash\n",
        "        self.hash = self.hashing()\n",
        "    \n",
        "    def __eq__(self, other):\n",
        "        if isinstance(other, self.__class__):\n",
        "            return self.__dict__ == other.__dict__\n",
        "        else:\n",
        "            return False\n",
        "    \n",
        "    def hashing(self):\n",
        "        key = hashlib.sha256()\n",
        "        key.update(str(self.index).encode('utf-8'))\n",
        "        key.update(str(self.timestamp).encode('utf-8'))\n",
        "        key.update(str(self.data).encode('utf-8'))\n",
        "        key.update(str(self.previous_hash).encode('utf-8'))\n",
        "        return key.hexdigest()\n",
        "    \n",
        "    def verify(self): # check data types of all info in a block\n",
        "        instances = [self.index, self.timestamp, self.previous_hash, self.hash]\n",
        "        types = [int, datetime.datetime, str, str]\n",
        "        if sum(map(lambda inst_, type_: isinstance(inst_, type_), instances, types)) == len(instances):\n",
        "            return True\n",
        "        else:\n",
        "            return False"
      ],
      "execution_count": 0,
      "outputs": []
    },
    {
      "cell_type": "code",
      "metadata": {
        "id": "MiIE5NktJcdV",
        "colab_type": "code",
        "colab": {}
      },
      "source": [
        "c = BlockChain()\n",
        "c.add_block (['Ram', 'Bilekahalli', 'Center', 20000])\n",
        "c.add_block (['Venkat', 'Marathahalli', 'Center', 30000])\n",
        "c.add_block (['Bhagyalakshmi', 'Dharavi', 'Center', 20000])\n",
        "c.add_block (['Ramesh', 'M.G. Road', 'Center', 50000])\n",
        "c.add_block (['Mukesh', 'Agara', 'Center', 40000])"
      ],
      "execution_count": 0,
      "outputs": []
    },
    {
      "cell_type": "code",
      "metadata": {
        "id": "A4tZs-uiKsMS",
        "colab_type": "code",
        "colab": {
          "base_uri": "https://localhost:8080/",
          "height": 52
        },
        "outputId": "07fa7555-72f1-42eb-f720-92f2e526fbd0"
      },
      "source": [
        "print(c.get_chain_size())\n",
        "print(c.verify())"
      ],
      "execution_count": 23,
      "outputs": [
        {
          "output_type": "stream",
          "text": [
            "5\n",
            "True\n"
          ],
          "name": "stdout"
        }
      ]
    },
    {
      "cell_type": "code",
      "metadata": {
        "id": "5gD2uyB4KyTP",
        "colab_type": "code",
        "colab": {
          "base_uri": "https://localhost:8080/",
          "height": 35
        },
        "outputId": "afb84116-ac79-4d90-8165-bdfde3005490"
      },
      "source": [
        "print (c.blocks[1].data)\n",
        "c.blocks[1].data = ['Ram', 'Bilekahalli', 'Center', 10000]"
      ],
      "execution_count": 24,
      "outputs": [
        {
          "output_type": "stream",
          "text": [
            "['Ram', 'Bilekahalli', 'Center', 20000]\n"
          ],
          "name": "stdout"
        }
      ]
    },
    {
      "cell_type": "code",
      "metadata": {
        "id": "c3eoJ3hTLFvp",
        "colab_type": "code",
        "colab": {
          "base_uri": "https://localhost:8080/",
          "height": 52
        },
        "outputId": "005afd06-ae29-437c-fe42-3a2c661edb7b"
      },
      "source": [
        "c.verify()"
      ],
      "execution_count": 25,
      "outputs": [
        {
          "output_type": "stream",
          "text": [
            "Wrong hash at block 1.\n"
          ],
          "name": "stdout"
        },
        {
          "output_type": "execute_result",
          "data": {
            "text/plain": [
              "False"
            ]
          },
          "metadata": {
            "tags": []
          },
          "execution_count": 25
        }
      ]
    }
  ]
}